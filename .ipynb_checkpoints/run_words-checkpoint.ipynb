{
 "cells": [
  {
   "cell_type": "code",
   "execution_count": null,
   "metadata": {},
   "outputs": [],
   "source": [
    "def draw_grid(path_name):\n",
    "\n",
    "    board = []\n",
    "    with open(path_name) as swf:\n",
    "        i = 0\n",
    "        for line in swf:\n",
    "            board.append([])\n",
    "            cells = line.split(',')\n",
    "            for cell in cells :\n",
    "                board[i].append(cell)\n",
    "            i += 1\n",
    "\n",
    "    swf.close()\n",
    "\n",
    "    def print_board(board):\n",
    "      for row in board:\n",
    "        print (\" |\".join(row))\n",
    "\n",
    "    print_board(board)\n"
   ]
  },
  {
   "cell_type": "code",
   "execution_count": null,
   "metadata": {},
   "outputs": [],
   "source": []
  }
 ],
 "metadata": {
  "kernelspec": {
   "display_name": "Python 3",
   "language": "python",
   "name": "python3"
  },
  "language_info": {
   "codemirror_mode": {
    "name": "ipython",
    "version": 3
   },
   "file_extension": ".py",
   "mimetype": "text/x-python",
   "name": "python",
   "nbconvert_exporter": "python",
   "pygments_lexer": "ipython3",
   "version": "3.8.3"
  }
 },
 "nbformat": 4,
 "nbformat_minor": 4
}
