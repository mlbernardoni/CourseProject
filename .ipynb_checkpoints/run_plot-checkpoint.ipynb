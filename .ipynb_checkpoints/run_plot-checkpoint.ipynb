{
 "cells": [
  {
   "cell_type": "code",
   "execution_count": 2,
   "metadata": {},
   "outputs": [],
   "source": [
    "import glob\n",
    "import pandas as pd\n",
    "import itertools"
   ]
  },
  {
   "cell_type": "code",
   "execution_count": 3,
   "metadata": {},
   "outputs": [],
   "source": [
    "# Global values\n",
    "\n",
    "# prefix path of data location\n",
    "path = \"Run_data/\"\n",
    "\n",
    "# Filepaths must be populated in the same order as these lists\n",
    "# Could technically populate these from filenames but that removes flexibility and relies too much on filename\n",
    "# Change these values to reflect actual tn or decay values\n",
    "tn = ['10', '20', '30', '40', 'TNVar'] \n",
    "decay = ['00001','.001', '0.5', '0.75', '0.9']\n",
    "\n",
    "# Define plot characteristics\n",
    "# Change the values of the dict to change the axis labels\n",
    "y_label = {\"purity\":\"Average Purity\", \"confidence\":\"Average Causality Confidence\"}\n",
    "x_label = {\"iter\":\"Number of Iterations\"}\n",
    "title = {\"run\":\"Different Runs\",\"tn\":\"With differnt Number of Topics (tn)\", \"decay\":\"With different decay rates (η)\"}\n",
    "legend = {\"run\": \"Run = \", \"tn\":\"tn = \", \"decay\":\"decay = \"}\n",
    "\n",
    "# set y axis range buffer above and below plot. Larger value is smaller buffer\n",
    "y_buffer = 3 # 3 or 4 is good value\n",
    "\n",
    "# legend[\"tn\"]"
   ]
  },
  {
   "cell_type": "code",
   "execution_count": 4,
   "metadata": {},
   "outputs": [],
   "source": [
    "def draw_plot(path, variable, constant):\n",
    "    \"\"\"\n",
    "    Input:\n",
    "        path - prefix path of data location\n",
    "        variable - the varying value. tn or decay.\n",
    "        constant - the constant value. purity or decay. Y axis\n",
    "        \n",
    "    Upon call, method saves the required plot to \"path\" and draws the plot inline\n",
    "    \n",
    "    \"\"\"\n",
    "    # to manually pass file names\n",
    "    # append relative file paths to filepaths\n",
    "    #filepaths = [\"LDA_data/data/Dpoint001baseline2.decay.purity.csv\"]\n",
    "    \n",
    "    # Parse filepaths using glob \n",
    "    # Files have to be named correctly\n",
    "    ###################################################################\n",
    "    #### USE NAMING CONVENTION path/filename.variable.constant.csv ####\n",
    "    ################################################################### \n",
    "    filepaths = glob.glob(path+\"*.\"+variable+\".\"+constant+\".csv\")\n",
    "    run = []\n",
    "    for filename in (filepaths):\n",
    "        names = filename.split('.')\n",
    "        file = names[1].split(\"\\\\\")\n",
    "        run.append(file[2])\n",
    "    # Set dataframe headers based on grpah being plotted\n",
    "    header = []\n",
    "    if variable == \"decay\":\n",
    "        for x in decay:\n",
    "            header.append([legend[\"decay\"]+x]) # modify this to change legend\n",
    "    elif variable == \"tn\":\n",
    "        for x in tn:\n",
    "            header.append([legend[\"tn\"]+x])\n",
    "    elif variable == \"run\":\n",
    "        for x in run:\n",
    "            header.append([legend[\"run\"]+x])\n",
    "    \n",
    "    \n",
    "    # load dataframe from csv\n",
    "    dfs = []\n",
    "    for i, filename in enumerate(filepaths):\n",
    "        dfs.append(pd.read_csv(filename, names = header[i] )) # read from csv and add header/name to each df\n",
    "    if len(dfs) == 0 :\n",
    "        return\n",
    "    df = pd.concat(dfs,axis = 1)\n",
    "    \n",
    "    # define plot markers \n",
    "    marker = itertools.cycle(('o', 'D', 'v', 's', 'P', '*', 'X')) # markers for each line\n",
    "\n",
    "    \n",
    "    # p = df.plot.line(title = title, xlabel = x_label, ylabel = y_label) # doesnt work in older version of pd\n",
    "    # set plot characteristics\n",
    "    p = df.plot.line(title = title[variable]) # using values defined in dict \n",
    "    p.set_xlabel(x_label[\"iter\"])\n",
    "    p.set_ylabel(y_label[constant])\n",
    "    p.yaxis.grid(True)\n",
    "    \n",
    "    for i, line in enumerate(p.get_lines()): # set marker for each line in plot\n",
    "        line.set_marker(next(marker))\n",
    "    \n",
    "    # Setting y axis range buffer. Leave this in or comment out. Only affects the visual of the plot\n",
    "    y_range = (p.get_ylim()[1] - p.get_ylim()[0])/y_buffer\n",
    "    ylim = [p.get_ylim()[0]- y_range, p.get_ylim()[1]+y_range]\n",
    "    p.set_ylim(ylim)\n",
    "    \n",
    "    \n",
    "    # save plot to disk\n",
    "    p.get_figure().savefig(path+variable+constant+\".pdf\")\n",
    "    \n",
    "    return"
   ]
  },
  {
   "cell_type": "code",
   "execution_count": 11,
   "metadata": {},
   "outputs": [],
   "source": [
    "### Call these methods to draw plots ###    \n",
    "def plot_decay(path):\n",
    "    draw_plot(path, \"decay\", \"purity\")\n",
    "    draw_plot(path, \"decay\", \"confidence\")\n",
    "    return\n",
    "    \n",
    "def plot_tn(path):\n",
    "    draw_plot(path, \"tn\", \"purity\")\n",
    "    draw_plot(path, \"tn\", \"confidence\")\n",
    "    return\n",
    "\n",
    "def plot_run(path):\n",
    "    draw_plot(path, \"run\", \"confidence\")\n",
    "    draw_plot(path, \"run\", \"purity\")\n",
    "    return\n"
   ]
  },
  {
   "cell_type": "code",
   "execution_count": 6,
   "metadata": {},
   "outputs": [],
   "source": [
    "#plot_run_confidence(\"Run_data/\")\n",
    "#plot_run_purity(\"Run_data/\")"
   ]
  },
  {
   "cell_type": "code",
   "execution_count": 7,
   "metadata": {},
   "outputs": [],
   "source": [
    "#plot_run(\"./Run_data/\")"
   ]
  },
  {
   "cell_type": "code",
   "execution_count": 12,
   "metadata": {},
   "outputs": [
    {
     "name": "stdout",
     "output_type": "stream",
     "text": [
      "oy\n"
     ]
    }
   ],
   "source": [
    "#plotpath = \"./Improved_baseline\"\n",
    "#plot_run(plotpath)"
   ]
  },
  {
   "cell_type": "code",
   "execution_count": null,
   "metadata": {},
   "outputs": [],
   "source": []
  }
 ],
 "metadata": {
  "kernelspec": {
   "display_name": "Python 3",
   "language": "python",
   "name": "python3"
  },
  "language_info": {
   "codemirror_mode": {
    "name": "ipython",
    "version": 3
   },
   "file_extension": ".py",
   "mimetype": "text/x-python",
   "name": "python",
   "nbconvert_exporter": "python",
   "pygments_lexer": "ipython3",
   "version": "3.8.3"
  }
 },
 "nbformat": 4,
 "nbformat_minor": 4
}
