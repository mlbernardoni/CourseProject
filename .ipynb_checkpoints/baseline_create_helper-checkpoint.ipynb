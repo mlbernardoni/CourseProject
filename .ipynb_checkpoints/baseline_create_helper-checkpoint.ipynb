{
 "cells": [
  {
   "cell_type": "code",
   "execution_count": 1,
   "metadata": {},
   "outputs": [
    {
     "name": "stdout",
     "output_type": "stream",
     "text": [
      "Number of time slices with docs: 123\n",
      "Number of time slices: 123\n",
      "Number of time vocab: 28092\n",
      "Size of doctokens: 2673\n",
      "Number of documents: 2673\n",
      "28092\n",
      "Number of unique tokens: 28092\n",
      "Pearsons correlation: 28092\n",
      "Current Time = 17:36:35\n",
      "Model Finished\n",
      "Current Time = 17:37:58\n",
      ".\\LDA_data\\10baselinenotreducedsav\n"
     ]
    }
   ],
   "source": [
    "%run load_helper.ipynb\n",
    "\n",
    "import pandas as pd\n",
    "from gensim import models\n",
    "#import matplotlib.pyplot as plt\n",
    "import logging\n",
    "import re\n",
    "import os\n",
    "\n",
    "baselinename = \"10baseline2\"\n",
    "### choose the callbacks classes to import\n",
    "from gensim.models.callbacks import PerplexityMetric, ConvergenceMetric, CoherenceMetric\n",
    "\n",
    "# The filename is the file that will be created with the log.\n",
    "# If the file already exists, the log will continue rather than being overwritten.\n",
    "logging.basicConfig(filename='xxpass40model.log',\n",
    "                    format=\"%(asctime)s:%(levelname)s:%(message)s\",\n",
    "                    level=logging.NOTSET)\n",
    "\n",
    "\n",
    "\n",
    "# Add text to logger to indicate new model\n",
    "#logging.debug(f'Start of model: ')\n",
    "\n",
    "# number of topics to start with, per the article, 30 is a good start\n",
    "num_topics = 10\n",
    "chunksize = 3000\n",
    "passes = 10\n",
    "iterations = 100\n",
    "eval_every = None  # Don't evaluate model perplexity, takes too much time.\n",
    "#eval_every = 1  # only use when logging for tuning\n",
    "lda_decay = .5     # how much the prior influences the iteration 0 - 1 \n",
    "\n",
    "\n",
    "# ##################################################\n",
    "#             Runs a baseline\n",
    "# ##################################################\n",
    "\n",
    "# Make a index to word dictionary.\n",
    "now = datetime.now()\n",
    "current_time = now.strftime(\"%H:%M:%S\")\n",
    "print(\"Current Time =\", current_time)\n",
    "\n",
    "model = LdaModel(\n",
    "    corpus=corpus,\n",
    "    id2word=tokentoword,\n",
    "    chunksize=chunksize,\n",
    "    alpha='auto',\n",
    "    eta='auto',\n",
    "    iterations=iterations,\n",
    "    num_topics=num_topics,\n",
    "    decay = lda_decay,\n",
    "    passes=passes,\n",
    "    eval_every=eval_every)\n",
    "\n",
    "# Add text to logger to indicate end of this model\n",
    "#logging.debug(f'End of model: ')\n",
    "print('Model Finished')\n",
    "now = datetime.now()\n",
    "current_time = now.strftime(\"%H:%M:%S\")\n",
    "print(\"Current Time =\", current_time)\n",
    "\n",
    "# ##################################################\n",
    "#             Saves the baseline\n",
    "# ##################################################\n",
    "\n",
    "file_name = save_path + baselinename + \"sav\"\n",
    "print (file_name)\n",
    "model.save(file_name )\n",
    "\n"
   ]
  },
  {
   "cell_type": "code",
   "execution_count": null,
   "metadata": {},
   "outputs": [],
   "source": []
  }
 ],
 "metadata": {
  "kernelspec": {
   "display_name": "Gensim",
   "language": "python",
   "name": "myenv"
  },
  "language_info": {
   "codemirror_mode": {
    "name": "ipython",
    "version": 3
   },
   "file_extension": ".py",
   "mimetype": "text/x-python",
   "name": "python",
   "nbconvert_exporter": "python",
   "pygments_lexer": "ipython3",
   "version": "3.8.5"
  }
 },
 "nbformat": 4,
 "nbformat_minor": 4
}
