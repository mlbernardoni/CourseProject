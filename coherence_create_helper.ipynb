{
 "cells": [
  {
   "cell_type": "code",
   "execution_count": 1,
   "metadata": {},
   "outputs": [
    {
     "name": "stdout",
     "output_type": "stream",
     "text": [
      "Number of time slices with docs: 123\n",
      "Number of time slices: 123\n",
      "Number of time vocab: 12517\n",
      "Number of documents: 2673\n",
      "Number of unique tokens: 12517\n",
      "\n",
      "Coherence Score:  [0.4374072826928278, 0.436875665637147, 0.4887515962634402, 0.4614485318375096, 0.45845405117151133]\n"
     ]
    }
   ],
   "source": [
    "%run load_helper.ipynb\n",
    "\n",
    "\n",
    "from gensim.models import CoherenceModel\n",
    "from numpy import asarray\n",
    "from numpy import savetxt\n",
    "\n",
    "baselines = [\"10topics.sav\", \"15topics.sav\", \"20topics.sav\", \"25topics.sav\", \"30topics.sav\"]\n",
    "\n",
    "coherence_lda = []\n",
    "\n",
    "for baseline in baselines :\n",
    "    file_name = save_path + baseline\n",
    "    model = LdaModel.load(file_name)\n",
    "\n",
    "    # Compute Coherence Score\n",
    "    coherence_model_lda = CoherenceModel(model=model, texts=doctokens, dictionary=dictionary, coherence='c_v')\n",
    "    coherence_lda.append(coherence_model_lda.get_coherence())\n",
    "\n",
    "print('\\nCoherence Score: ', coherence_lda)\n",
    "\n",
    "output = asarray([coherence_lda])\n",
    "# save to csv file\n",
    "file_name = save_path + \"coherence.csv\"\n",
    "savetxt(file_name, output, delimiter=',')"
   ]
  },
  {
   "cell_type": "code",
   "execution_count": null,
   "metadata": {},
   "outputs": [],
   "source": []
  }
 ],
 "metadata": {
  "kernelspec": {
   "display_name": "Gensim",
   "language": "python",
   "name": "myenv"
  },
  "language_info": {
   "codemirror_mode": {
    "name": "ipython",
    "version": 3
   },
   "file_extension": ".py",
   "mimetype": "text/x-python",
   "name": "python",
   "nbconvert_exporter": "python",
   "pygments_lexer": "ipython3",
   "version": "3.8.5"
  }
 },
 "nbformat": 4,
 "nbformat_minor": 4
}
